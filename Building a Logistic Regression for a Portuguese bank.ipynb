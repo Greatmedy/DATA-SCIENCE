{
 "cells": [
  {
   "cell_type": "markdown",
   "metadata": {},
   "source": [
    "# Building a Logistic Regression"
   ]
  },
  {
   "cell_type": "markdown",
   "metadata": {},
   "source": [
    "A logistic regression based on the bank data provided. \n",
    "\n",
    "The data is based on the marketing campaign efforts of a Portuguese banking institution. The classification goal is to predict if the client will subscribe a term deposit (variable y).\n",
    "\n",
    "Note that the first column of the dataset is the index.\n",
    "\n",
    "Source: [Moro et al., 2014] S. Moro, P. Cortez and P. Rita. A Data-Driven Approach to Predict the Success of Bank Telemarketing. Decision Support Systems, Elsevier, 62:22-31, June 2014\n"
   ]
  },
  {
   "cell_type": "markdown",
   "metadata": {},
   "source": [
    "## Import the relevant libraries"
   ]
  },
  {
   "cell_type": "code",
   "execution_count": 1,
   "metadata": {},
   "outputs": [],
   "source": [
    "import numpy as np\n",
    "import pandas as pd\n",
    "import statsmodels.api as sm\n",
    "import matplotlib.pyplot as plt\n",
    "import seaborn as sns\n",
    "sns.set()\n",
    "\n",
    "from scipy import stats\n",
    "stats.chisqprob = lambda chisq, df: stats.chi2.sf(chisq, df)"
   ]
  },
  {
   "cell_type": "code",
   "execution_count": 4,
   "metadata": {},
   "outputs": [],
   "source": [
    "#the file was saved in my downloads so i will change the directory to dwnloads\n",
    "import os"
   ]
  },
  {
   "cell_type": "code",
   "execution_count": 5,
   "metadata": {},
   "outputs": [
    {
     "data": {
      "text/plain": [
       "'C:\\\\Users\\\\HP'"
      ]
     },
     "execution_count": 5,
     "metadata": {},
     "output_type": "execute_result"
    }
   ],
   "source": [
    "os.getcwd()"
   ]
  },
  {
   "cell_type": "code",
   "execution_count": 6,
   "metadata": {},
   "outputs": [],
   "source": [
    "os.chdir('C:\\\\Users\\\\HP\\Downloads')"
   ]
  },
  {
   "cell_type": "markdown",
   "metadata": {},
   "source": [
    "## Load the data"
   ]
  },
  {
   "cell_type": "markdown",
   "metadata": {},
   "source": [
    "Load the ‘Example_bank_data.csv’ dataset."
   ]
  },
  {
   "cell_type": "code",
   "execution_count": 7,
   "metadata": {},
   "outputs": [
    {
     "data": {
      "text/html": [
       "<div>\n",
       "<style scoped>\n",
       "    .dataframe tbody tr th:only-of-type {\n",
       "        vertical-align: middle;\n",
       "    }\n",
       "\n",
       "    .dataframe tbody tr th {\n",
       "        vertical-align: top;\n",
       "    }\n",
       "\n",
       "    .dataframe thead th {\n",
       "        text-align: right;\n",
       "    }\n",
       "</style>\n",
       "<table border=\"1\" class=\"dataframe\">\n",
       "  <thead>\n",
       "    <tr style=\"text-align: right;\">\n",
       "      <th></th>\n",
       "      <th>Unnamed: 0</th>\n",
       "      <th>duration</th>\n",
       "      <th>y</th>\n",
       "    </tr>\n",
       "  </thead>\n",
       "  <tbody>\n",
       "    <tr>\n",
       "      <th>0</th>\n",
       "      <td>0</td>\n",
       "      <td>117</td>\n",
       "      <td>no</td>\n",
       "    </tr>\n",
       "    <tr>\n",
       "      <th>1</th>\n",
       "      <td>1</td>\n",
       "      <td>274</td>\n",
       "      <td>yes</td>\n",
       "    </tr>\n",
       "    <tr>\n",
       "      <th>2</th>\n",
       "      <td>2</td>\n",
       "      <td>167</td>\n",
       "      <td>no</td>\n",
       "    </tr>\n",
       "    <tr>\n",
       "      <th>3</th>\n",
       "      <td>3</td>\n",
       "      <td>686</td>\n",
       "      <td>yes</td>\n",
       "    </tr>\n",
       "    <tr>\n",
       "      <th>4</th>\n",
       "      <td>4</td>\n",
       "      <td>157</td>\n",
       "      <td>no</td>\n",
       "    </tr>\n",
       "    <tr>\n",
       "      <th>...</th>\n",
       "      <td>...</td>\n",
       "      <td>...</td>\n",
       "      <td>...</td>\n",
       "    </tr>\n",
       "    <tr>\n",
       "      <th>513</th>\n",
       "      <td>513</td>\n",
       "      <td>204</td>\n",
       "      <td>no</td>\n",
       "    </tr>\n",
       "    <tr>\n",
       "      <th>514</th>\n",
       "      <td>514</td>\n",
       "      <td>806</td>\n",
       "      <td>yes</td>\n",
       "    </tr>\n",
       "    <tr>\n",
       "      <th>515</th>\n",
       "      <td>515</td>\n",
       "      <td>290</td>\n",
       "      <td>no</td>\n",
       "    </tr>\n",
       "    <tr>\n",
       "      <th>516</th>\n",
       "      <td>516</td>\n",
       "      <td>473</td>\n",
       "      <td>yes</td>\n",
       "    </tr>\n",
       "    <tr>\n",
       "      <th>517</th>\n",
       "      <td>517</td>\n",
       "      <td>142</td>\n",
       "      <td>no</td>\n",
       "    </tr>\n",
       "  </tbody>\n",
       "</table>\n",
       "<p>518 rows × 3 columns</p>\n",
       "</div>"
      ],
      "text/plain": [
       "     Unnamed: 0  duration    y\n",
       "0             0       117   no\n",
       "1             1       274  yes\n",
       "2             2       167   no\n",
       "3             3       686  yes\n",
       "4             4       157   no\n",
       "..          ...       ...  ...\n",
       "513         513       204   no\n",
       "514         514       806  yes\n",
       "515         515       290   no\n",
       "516         516       473  yes\n",
       "517         517       142   no\n",
       "\n",
       "[518 rows x 3 columns]"
      ]
     },
     "execution_count": 7,
     "metadata": {},
     "output_type": "execute_result"
    }
   ],
   "source": [
    "raw_data = pd.read_csv('Example bank data.csv')\n",
    "raw_data"
   ]
  },
  {
   "cell_type": "markdown",
   "metadata": {},
   "source": [
    "We want to know whether the bank marketing strategy was successful, so we need to transform the outcome variable into 0s and 1s in order to perform a logistic regression."
   ]
  },
  {
   "cell_type": "code",
   "execution_count": 8,
   "metadata": {},
   "outputs": [
    {
     "data": {
      "text/html": [
       "<div>\n",
       "<style scoped>\n",
       "    .dataframe tbody tr th:only-of-type {\n",
       "        vertical-align: middle;\n",
       "    }\n",
       "\n",
       "    .dataframe tbody tr th {\n",
       "        vertical-align: top;\n",
       "    }\n",
       "\n",
       "    .dataframe thead th {\n",
       "        text-align: right;\n",
       "    }\n",
       "</style>\n",
       "<table border=\"1\" class=\"dataframe\">\n",
       "  <thead>\n",
       "    <tr style=\"text-align: right;\">\n",
       "      <th></th>\n",
       "      <th>Unnamed: 0</th>\n",
       "      <th>duration</th>\n",
       "      <th>y</th>\n",
       "    </tr>\n",
       "  </thead>\n",
       "  <tbody>\n",
       "    <tr>\n",
       "      <th>0</th>\n",
       "      <td>0</td>\n",
       "      <td>117</td>\n",
       "      <td>0</td>\n",
       "    </tr>\n",
       "    <tr>\n",
       "      <th>1</th>\n",
       "      <td>1</td>\n",
       "      <td>274</td>\n",
       "      <td>1</td>\n",
       "    </tr>\n",
       "    <tr>\n",
       "      <th>2</th>\n",
       "      <td>2</td>\n",
       "      <td>167</td>\n",
       "      <td>0</td>\n",
       "    </tr>\n",
       "    <tr>\n",
       "      <th>3</th>\n",
       "      <td>3</td>\n",
       "      <td>686</td>\n",
       "      <td>1</td>\n",
       "    </tr>\n",
       "    <tr>\n",
       "      <th>4</th>\n",
       "      <td>4</td>\n",
       "      <td>157</td>\n",
       "      <td>0</td>\n",
       "    </tr>\n",
       "    <tr>\n",
       "      <th>...</th>\n",
       "      <td>...</td>\n",
       "      <td>...</td>\n",
       "      <td>...</td>\n",
       "    </tr>\n",
       "    <tr>\n",
       "      <th>513</th>\n",
       "      <td>513</td>\n",
       "      <td>204</td>\n",
       "      <td>0</td>\n",
       "    </tr>\n",
       "    <tr>\n",
       "      <th>514</th>\n",
       "      <td>514</td>\n",
       "      <td>806</td>\n",
       "      <td>1</td>\n",
       "    </tr>\n",
       "    <tr>\n",
       "      <th>515</th>\n",
       "      <td>515</td>\n",
       "      <td>290</td>\n",
       "      <td>0</td>\n",
       "    </tr>\n",
       "    <tr>\n",
       "      <th>516</th>\n",
       "      <td>516</td>\n",
       "      <td>473</td>\n",
       "      <td>1</td>\n",
       "    </tr>\n",
       "    <tr>\n",
       "      <th>517</th>\n",
       "      <td>517</td>\n",
       "      <td>142</td>\n",
       "      <td>0</td>\n",
       "    </tr>\n",
       "  </tbody>\n",
       "</table>\n",
       "<p>518 rows × 3 columns</p>\n",
       "</div>"
      ],
      "text/plain": [
       "     Unnamed: 0  duration  y\n",
       "0             0       117  0\n",
       "1             1       274  1\n",
       "2             2       167  0\n",
       "3             3       686  1\n",
       "4             4       157  0\n",
       "..          ...       ... ..\n",
       "513         513       204  0\n",
       "514         514       806  1\n",
       "515         515       290  0\n",
       "516         516       473  1\n",
       "517         517       142  0\n",
       "\n",
       "[518 rows x 3 columns]"
      ]
     },
     "execution_count": 8,
     "metadata": {},
     "output_type": "execute_result"
    }
   ],
   "source": [
    "# Replace all No entries with 0, and all Yes entries with 1\n",
    "data = raw_data.copy()\n",
    "data['y'] = data['y'].map({'yes': 1, 'no': 0})\n",
    "data"
   ]
  },
  {
   "cell_type": "markdown",
   "metadata": {},
   "source": [
    "### Declare the dependent and independent variables"
   ]
  },
  {
   "cell_type": "code",
   "execution_count": 9,
   "metadata": {},
   "outputs": [],
   "source": [
    "# Create the dependent and independent variables\n",
    "y = data['y']\n",
    "x1 = data['duration']"
   ]
  },
  {
   "cell_type": "markdown",
   "metadata": {},
   "source": [
    "### Simple Logistic Regression"
   ]
  },
  {
   "cell_type": "markdown",
   "metadata": {},
   "source": [
    "Run the regression and visualize it on a scatter plot (no need to plot the line)."
   ]
  },
  {
   "cell_type": "code",
   "execution_count": 10,
   "metadata": {},
   "outputs": [
    {
     "data": {
      "image/png": "[encoded data removed]",
      "text/plain": [
       "<Figure size 640x480 with 1 Axes>"
      ]
     },
     "metadata": {},
     "output_type": "display_data"
    }
   ],
   "source": [
    "# Create a scatter plot of x1 (SAT, no constant) and y (Admitted)\n",
    "plt.scatter(x1,y, color='C0')\n",
    "# Don't forget to label your axes!\n",
    "plt.xlabel('duration', fontsize=20)\n",
    "plt.ylabel('y', fontsize=20)\n",
    "plt.show()"
   ]
  },
  {
   "cell_type": "code",
   "execution_count": 11,
   "metadata": {},
   "outputs": [
    {
     "name": "stdout",
     "output_type": "stream",
     "text": [
      "Optimization terminated successfully.\n",
      "         Current function value: 0.546118\n",
      "         Iterations 7\n"
     ]
    }
   ],
   "source": [
    "x = sm.add_constant(x1)\n",
    "reg_log = sm.Logit(y,x)\n",
    "results_log = reg_log.fit()"
   ]
  },
  {
   "cell_type": "code",
   "execution_count": 12,
   "metadata": {},
   "outputs": [
    {
     "data": {
      "text/html": [
       "<table class=\"simpletable\">\n",
       "<caption>Logit Regression Results</caption>\n",
       "<tr>\n",
       "  <th>Dep. Variable:</th>           <td>y</td>        <th>  No. Observations:  </th>  <td>   518</td>  \n",
       "</tr>\n",
       "<tr>\n",
       "  <th>Model:</th>                 <td>Logit</td>      <th>  Df Residuals:      </th>  <td>   516</td>  \n",
       "</tr>\n",
       "<tr>\n",
       "  <th>Method:</th>                 <td>MLE</td>       <th>  Df Model:          </th>  <td>     1</td>  \n",
       "</tr>\n",
       "<tr>\n",
       "  <th>Date:</th>            <td>Wed, 15 Mar 2023</td> <th>  Pseudo R-squ.:     </th>  <td>0.2121</td>  \n",
       "</tr>\n",
       "<tr>\n",
       "  <th>Time:</th>                <td>13:14:03</td>     <th>  Log-Likelihood:    </th> <td> -282.89</td> \n",
       "</tr>\n",
       "<tr>\n",
       "  <th>converged:</th>             <td>True</td>       <th>  LL-Null:           </th> <td> -359.05</td> \n",
       "</tr>\n",
       "<tr>\n",
       "  <th>Covariance Type:</th>     <td>nonrobust</td>    <th>  LLR p-value:       </th> <td>5.387e-35</td>\n",
       "</tr>\n",
       "</table>\n",
       "<table class=\"simpletable\">\n",
       "<tr>\n",
       "      <td></td>        <th>coef</th>     <th>std err</th>      <th>z</th>      <th>P>|z|</th>  <th>[0.025</th>    <th>0.975]</th>  \n",
       "</tr>\n",
       "<tr>\n",
       "  <th>const</th>    <td>   -1.7001</td> <td>    0.192</td> <td>   -8.863</td> <td> 0.000</td> <td>   -2.076</td> <td>   -1.324</td>\n",
       "</tr>\n",
       "<tr>\n",
       "  <th>duration</th> <td>    0.0051</td> <td>    0.001</td> <td>    9.159</td> <td> 0.000</td> <td>    0.004</td> <td>    0.006</td>\n",
       "</tr>\n",
       "</table>"
      ],
      "text/plain": [
       "<class 'statsmodels.iolib.summary.Summary'>\n",
       "\"\"\"\n",
       "                           Logit Regression Results                           \n",
       "==============================================================================\n",
       "Dep. Variable:                      y   No. Observations:                  518\n",
       "Model:                          Logit   Df Residuals:                      516\n",
       "Method:                           MLE   Df Model:                            1\n",
       "Date:                Wed, 15 Mar 2023   Pseudo R-squ.:                  0.2121\n",
       "Time:                        13:14:03   Log-Likelihood:                -282.89\n",
       "converged:                       True   LL-Null:                       -359.05\n",
       "Covariance Type:            nonrobust   LLR p-value:                 5.387e-35\n",
       "==============================================================================\n",
       "                 coef    std err          z      P>|z|      [0.025      0.975]\n",
       "------------------------------------------------------------------------------\n",
       "const         -1.7001      0.192     -8.863      0.000      -2.076      -1.324\n",
       "duration       0.0051      0.001      9.159      0.000       0.004       0.006\n",
       "==============================================================================\n",
       "\"\"\""
      ]
     },
     "execution_count": 12,
     "metadata": {},
     "output_type": "execute_result"
    }
   ],
   "source": [
    "results_log.summary()"
   ]
  },
  {
   "cell_type": "markdown",
   "metadata": {},
   "source": [
    "## find the odds of the duration with binary prediction"
   ]
  },
  {
   "cell_type": "code",
   "execution_count": 13,
   "metadata": {},
   "outputs": [
    {
     "data": {
      "text/plain": [
       "1.005113027136717"
      ]
     },
     "execution_count": 13,
     "metadata": {},
     "output_type": "execute_result"
    }
   ],
   "source": [
    "np.exp(0.0051)"
   ]
  },
  {
   "cell_type": "markdown",
   "metadata": {},
   "source": [
    "## LET CREATE THE CONFUSION MATRIX"
   ]
  },
  {
   "cell_type": "code",
   "execution_count": 14,
   "metadata": {},
   "outputs": [
    {
     "data": {
      "text/plain": [
       "array([0.24936904, 0.42571348, 0.30019503, 0.85898342, 0.28956627,\n",
       "       0.2580803 , 0.21914028, 0.16614452, 0.86976608, 0.31987434,\n",
       "       0.55276776, 0.22532533, 0.30234734, 0.39480294, 0.35411888,\n",
       "       0.489064  , 0.29167414, 0.25225084, 0.50567672, 0.82802726,\n",
       "       0.84413091, 0.5890681 , 0.45848474, 0.40215497, 0.44961416,\n",
       "       0.20546539, 0.4157464 , 0.42321571, 0.58286683, 0.2580803 ,\n",
       "       0.17928751, 0.2580803 , 0.85711543, 0.43322907, 0.293791  ,\n",
       "       0.32658401, 0.98373368, 0.21652721, 0.99665611, 0.62920727,\n",
       "       0.2639969 , 0.49417474, 0.30885632, 0.27711089, 0.28746746,\n",
       "       0.2474601 , 0.19643708, 0.30342677, 0.30559213, 0.4712014 ,\n",
       "       0.87376626, 0.20132396, 0.22177596, 0.28642146, 0.25612742,\n",
       "       0.49417474, 0.27916371, 0.20214723, 0.88872861, 0.53501481,\n",
       "       0.23806331, 0.24556099, 0.90211616, 0.40092648, 0.51078751,\n",
       "       0.45975425, 0.28019361, 0.30450837, 0.87432905, 0.23713725,\n",
       "       0.18231618, 0.3706541 , 0.4724754 , 0.38144917, 0.54009814,\n",
       "       0.26499142, 0.40955126, 0.57163945, 0.29273144, 0.20713955,\n",
       "       0.34366753, 0.43448476, 0.29912217, 0.45721577, 0.40584778,\n",
       "       0.96977349, 0.30234734, 0.52865053, 0.40092648, 0.22981841,\n",
       "       0.35646087, 0.22001633, 0.37423872, 0.31876317, 0.77188171,\n",
       "       0.81375221, 0.79693085, 0.19805601, 0.98331956, 0.30450837,\n",
       "       0.93048438, 0.34366753, 0.89270915, 0.41202599, 0.49800865,\n",
       "       0.50184279, 0.41823205, 0.34597743, 0.41823205, 0.5171727 ,\n",
       "       0.53882805, 0.24556099, 0.30667805, 0.20546539, 0.7418059 ,\n",
       "       0.17928751, 0.2512878 , 0.88304484, 0.60015818, 0.47629948,\n",
       "       0.23254427, 0.17188814, 0.39847323, 0.99446526, 0.47629948,\n",
       "       0.96015351, 0.36471144, 0.59277546, 0.34251534, 0.4157464 ,\n",
       "       0.28537775, 0.33109711, 0.47885045, 0.90256666, 0.45848474,\n",
       "       0.68332439, 0.57414123, 0.42821504, 0.42696379, 0.30885632,\n",
       "       0.2580803 , 0.23437399, 0.83728563, 0.44077551, 0.83518536,\n",
       "       0.6457452 , 0.3826561 , 0.25710265, 0.99958344, 0.26004286,\n",
       "       0.95936376, 0.74763705, 0.97094956, 0.86083095, 0.19724529,\n",
       "       0.28851573, 0.81759521, 0.96545422, 0.82212514, 0.97724027,\n",
       "       0.46992777, 0.56536922, 0.93244242, 0.41326503, 0.30667805,\n",
       "       0.44329726, 0.28642146, 0.28329719, 0.22265954, 0.57788676,\n",
       "       0.67328529, 0.49673063, 0.44834942, 0.27303329, 0.28642146,\n",
       "       0.98491629, 0.32996588, 0.24556099, 0.61357357, 0.36234577,\n",
       "       0.51589604, 0.27303329, 0.42696379, 0.91950756, 0.2639969 ,\n",
       "       0.34482156, 0.16543748, 0.23163316, 0.99946492, 0.30885632,\n",
       "       0.32883661, 0.55276776, 0.22089489, 0.65735083, 0.34482156,\n",
       "       0.16193843, 0.6975273 , 0.21566122, 0.68332439, 0.41947645,\n",
       "       0.28122583, 0.81063309, 0.48778663, 0.92174878, 0.2580803 ,\n",
       "       0.4169887 , 0.48395555, 0.86565863, 0.42571348, 0.97654796,\n",
       "       0.34713511, 0.4070811 , 0.93497359, 0.40338469, 0.21739572,\n",
       "       0.86326272, 0.88822206, 0.20132396, 0.34482156, 0.19164035,\n",
       "       0.59277546, 0.74860038, 0.20214723, 0.29061908, 0.89023623,\n",
       "       0.34945591, 0.82287149, 0.3132384 , 0.99423554, 0.96476567,\n",
       "       0.65040899, 0.35061899, 0.53628637, 0.94063537, 0.81987129,\n",
       "       0.98476364, 0.3706541 , 0.33906994, 0.5120649 , 0.5641126 ,\n",
       "       0.28329719, 0.76916997, 0.23072454, 0.20630121, 0.97007176,\n",
       "       0.99471283, 0.60627604, 0.23529259, 0.94063537, 0.72786255,\n",
       "       0.31433919, 0.80427511, 0.20882377, 0.20966965, 0.28329719,\n",
       "       0.65504417, 0.38144917, 0.21739572, 0.53882805, 0.58037884,\n",
       "       0.66079688, 0.82361539, 0.99620196, 0.39724851, 0.29591681,\n",
       "       0.26698762, 0.51589604, 0.27608797, 0.72786255, 0.57038718,\n",
       "       0.89891042, 0.53501481, 0.75147569, 0.23992287, 0.99332049,\n",
       "       0.45087956, 0.74667128, 0.2750674 , 0.42446411, 0.33792522,\n",
       "       0.89983574, 0.2750674 , 0.94423959, 0.99995738, 0.39847323,\n",
       "       0.96073615, 0.21222237, 0.99013031, 0.41450518, 0.341365  ,\n",
       "       0.28956627, 0.39602507, 0.6527302 , 0.24650931, 0.46865454,\n",
       "       0.28642146, 0.31987434, 0.20966965, 0.20966965, 0.80022005,\n",
       "       0.47629948, 0.3322303 , 0.31876317, 0.40461563, 0.32322008,\n",
       "       0.27813613, 0.35528901, 0.98506744, 0.75527505, 0.30776611,\n",
       "       0.29167414, 0.31765407, 0.19006143, 0.39480294, 0.95732329,\n",
       "       0.31544207, 0.96612978, 0.52610209, 0.77007639, 0.65850138,\n",
       "       0.31213971, 0.24179235, 0.24556099, 0.24367173, 0.20966965,\n",
       "       0.35178386, 0.48650942, 0.26201507, 0.99624045, 0.16055562,\n",
       "       0.99202219, 0.93497359, 0.99358644, 0.34021653, 0.19563137,\n",
       "       0.3356415 , 0.86144227, 0.37184741, 0.85073956, 0.65504417,\n",
       "       0.67440884, 0.26698762, 0.98676882, 0.51461918, 0.18307954,\n",
       "       0.35880975, 0.76643575, 0.99999295, 0.35763445, 0.27303329,\n",
       "       0.55403124, 0.77812146, 0.19724529, 0.69210727, 0.79023186,\n",
       "       0.32322008, 0.61478497, 0.29591681, 0.16193843, 0.22891479,\n",
       "       0.32658401, 0.24841334, 0.3345025 , 0.28122583, 0.61478497,\n",
       "       0.96947234, 0.39236262, 0.4521456 , 0.57663923, 0.28746746,\n",
       "       0.99848325, 0.98397728, 0.43951577, 0.60749569, 0.5890681 ,\n",
       "       0.28433632, 0.36471144, 0.24179235, 0.91798103, 0.38871224,\n",
       "       0.47629948, 0.37543668, 0.31765407, 0.84345709, 0.37423872,\n",
       "       0.31433919, 0.5043988 , 0.21051804, 0.28019361, 0.59154082,\n",
       "       0.2750674 , 0.19805601, 0.64457487, 0.34945591, 0.97971382,\n",
       "       0.3826561 , 0.41078806, 0.36946236, 0.55907801, 0.78423825,\n",
       "       0.50695457, 0.25515462, 0.55276776, 0.87432905, 0.21826675,\n",
       "       0.29167414, 0.53119748, 0.97930339, 0.50950998, 0.94738292,\n",
       "       0.58659087, 0.78163184, 0.72174454, 0.65157049, 0.40461563,\n",
       "       0.40584778, 0.68221711, 0.18461368, 0.73389564, 0.4070811 ,\n",
       "       0.73289607, 0.44455924, 0.5641126 , 0.36827222, 0.5171727 ,\n",
       "       0.39358212, 0.5952412 , 0.3132384 , 0.51461918, 0.90390706,\n",
       "       0.86625204, 0.26102776, 0.569134  , 0.59030503, 0.42072186,\n",
       "       0.38507431, 0.26698762, 0.48012635, 0.44077551, 0.94661314,\n",
       "       0.24179235, 0.28329719, 0.37184741, 0.19643708, 0.83867379,\n",
       "       0.54390523, 0.4083156 , 0.64105353, 0.83728563, 0.24556099,\n",
       "       0.83163665, 0.78596328, 0.27404917, 0.92675773, 0.23529259,\n",
       "       0.28019361, 0.97094956, 0.73984278, 0.29273144, 0.341365  ,\n",
       "       0.29698305, 0.7258326 , 0.53755746, 0.28329719, 0.30019503,\n",
       "       0.2679893 , 0.23529259, 0.99978009, 0.3874982 , 0.32770932,\n",
       "       0.68221711, 0.67664992, 0.39847323, 0.98306613, 0.65619842,\n",
       "       0.34945591, 0.32883661, 0.5791333 , 0.36352778, 0.85898342,\n",
       "       0.19164035, 0.52865053, 0.45594735, 0.18461368, 0.98437533,\n",
       "       0.86021738, 0.81911507, 0.87091986, 0.80346911, 0.39602507,\n",
       "       0.23992287, 0.87655878, 0.81219763, 0.59277546, 0.20966965,\n",
       "       0.25906037, 0.3221028 , 0.31433919, 0.49161915, 0.24179235,\n",
       "       0.66877127, 0.20966965, 0.27303329, 0.2474601 , 0.30450837,\n",
       "       0.69968011, 0.54136772, 0.16124582, 0.91444956, 0.43197424,\n",
       "       0.67553039, 0.67888292, 0.36589675, 0.341365  , 0.91836512,\n",
       "       0.44582194, 0.67215975, 0.27404917])"
      ]
     },
     "execution_count": 14,
     "metadata": {},
     "output_type": "execute_result"
    }
   ],
   "source": [
    "#FIRST LET FIND THE ACCURACY\n",
    "\n",
    "results_log.predict()"
   ]
  },
  {
   "cell_type": "code",
   "execution_count": 15,
   "metadata": {},
   "outputs": [
    {
     "data": {
      "text/plain": [
       "array([0, 1, 0, 1, 0, 0, 0, 0, 1, 0, 0, 1, 1, 0, 0, 1, 1, 1, 1, 0, 1, 1,\n",
       "       0, 1, 1, 0, 1, 1, 1, 0, 0, 0, 1, 1, 0, 0, 1, 0, 1, 0, 0, 1, 0, 0,\n",
       "       1, 1, 0, 0, 0, 1, 0, 0, 0, 0, 0, 1, 0, 1, 1, 1, 0, 0, 1, 1, 0, 0,\n",
       "       0, 1, 1, 0, 0, 1, 0, 1, 1, 0, 1, 0, 0, 0, 1, 1, 1, 0, 0, 1, 1, 0,\n",
       "       1, 0, 0, 1, 1, 1, 1, 1, 1, 0, 1, 0, 1, 0, 1, 0, 1, 0, 0, 1, 1, 0,\n",
       "       1, 0, 0, 0, 1, 0, 0, 1, 1, 0, 0, 0, 1, 1, 0, 1, 1, 0, 1, 1, 0, 1,\n",
       "       1, 1, 1, 1, 0, 1, 0, 0, 0, 0, 1, 1, 1, 1, 0, 0, 1, 0, 0, 0, 1, 1,\n",
       "       0, 1, 0, 1, 0, 1, 1, 1, 1, 0, 1, 0, 1, 0, 0, 0, 0, 1, 1, 0, 0, 1,\n",
       "       1, 0, 1, 1, 0, 0, 0, 1, 0, 0, 0, 0, 1, 1, 1, 0, 0, 1, 0, 0, 1, 0,\n",
       "       0, 1, 0, 1, 1, 1, 0, 0, 1, 1, 0, 1, 0, 0, 1, 1, 0, 1, 1, 1, 1, 0,\n",
       "       1, 1, 0, 0, 1, 0, 1, 1, 1, 1, 0, 0, 0, 1, 1, 1, 1, 0, 0, 0, 0, 1,\n",
       "       0, 0, 0, 1, 1, 0, 1, 1, 0, 0, 0, 0, 0, 1, 1, 0, 1, 1, 1, 1, 1, 0,\n",
       "       1, 0, 0, 0, 0, 1, 1, 1, 0, 0, 1, 1, 1, 0, 0, 0, 1, 0, 1, 1, 0, 0,\n",
       "       0, 1, 0, 1, 0, 1, 0, 0, 1, 0, 0, 0, 0, 0, 0, 1, 0, 0, 0, 1, 0, 1,\n",
       "       0, 1, 0, 1, 0, 1, 1, 1, 1, 0, 1, 0, 1, 0, 0, 0, 0, 1, 0, 1, 1, 0,\n",
       "       1, 1, 1, 1, 0, 0, 1, 0, 1, 1, 1, 0, 1, 0, 0, 1, 1, 1, 1, 0, 1, 1,\n",
       "       0, 1, 1, 0, 1, 1, 0, 1, 0, 0, 0, 0, 1, 1, 0, 1, 0, 0, 1, 1, 1, 1,\n",
       "       1, 0, 0, 0, 1, 1, 1, 1, 0, 1, 1, 0, 0, 0, 0, 1, 0, 0, 1, 1, 1, 0,\n",
       "       0, 0, 0, 0, 1, 0, 0, 1, 0, 0, 0, 1, 0, 0, 0, 1, 1, 1, 0, 1, 1, 0,\n",
       "       1, 0, 1, 1, 0, 0, 1, 0, 1, 1, 1, 1, 0, 1, 1, 0, 0, 0, 0, 0, 0, 1,\n",
       "       0, 0, 1, 0, 1, 1, 1, 0, 1, 0, 1, 1, 1, 1, 0, 1, 1, 1, 1, 0, 0, 0,\n",
       "       1, 0, 0, 0, 0, 1, 1, 0, 1, 0, 0, 1, 0, 1, 1, 0, 0, 1, 0, 1, 0, 0,\n",
       "       1, 1, 1, 1, 1, 0, 1, 1, 1, 0, 0, 0, 0, 1, 1, 1, 1, 0, 0, 0, 0, 0,\n",
       "       1, 0, 1, 1, 1, 1, 0, 0, 1, 0, 1, 0], dtype=int64)"
      ]
     },
     "execution_count": 15,
     "metadata": {},
     "output_type": "execute_result"
    }
   ],
   "source": [
    "np.array(data[\"y\"])"
   ]
  },
  {
   "cell_type": "code",
   "execution_count": 16,
   "metadata": {},
   "outputs": [],
   "source": [
    "def confusion_matrix(data,actual_values,model):\n",
    "        \n",
    "        # Confusion matrix \n",
    "        \n",
    "        # Parameters\n",
    "        # ----------\n",
    "        # data: data frame or array\n",
    "            # data is a data frame formatted in the same way as your input data (without the actual values)\n",
    "            # e.g. const, var1, var2, etc. Order is very important!\n",
    "        # actual_values: data frame or array\n",
    "            # These are the actual values from the test_data\n",
    "            # In the case of a logistic regression, it should be a single column with 0s and 1s\n",
    "            \n",
    "        # model: a LogitResults object\n",
    "            # this is the variable where you have the fitted model \n",
    "            # e.g. results_log in this course\n",
    "        # ----------\n",
    "        \n",
    "        #Predict the values using the Logit model\n",
    "        pred_values = model.predict(data)\n",
    "        # Specify the bins \n",
    "        bins=np.array([0,0.5,1])\n",
    "        # Create a histogram, where if values are between 0 and 0.5 tell will be considered 0\n",
    "        # if they are between 0.5 and 1, they will be considered 1\n",
    "        cm = np.histogram2d(actual_values, pred_values, bins=bins)[0]\n",
    "        # Calculate the accuracy\n",
    "        accuracy = (cm[0,0]+cm[1,1])/cm.sum()\n",
    "        # Return the confusion matrix and \n",
    "        return cm, accuracy"
   ]
  },
  {
   "cell_type": "code",
   "execution_count": 17,
   "metadata": {},
   "outputs": [
    {
     "data": {
      "text/plain": [
       "(array([[204.,  55.],\n",
       "        [104., 155.]]),\n",
       " 0.693050193050193)"
      ]
     },
     "execution_count": 17,
     "metadata": {},
     "output_type": "execute_result"
    }
   ],
   "source": [
    "confusion_matrix(x,y,results_log)"
   ]
  },
  {
   "cell_type": "code",
   "execution_count": null,
   "metadata": {},
   "outputs": [],
   "source": []
  }
 ],
 "metadata": {
  "kernelspec": {
   "display_name": "Python 3 (ipykernel)",
   "language": "python",
   "name": "python3"
  },
  "language_info": {
   "codemirror_mode": {
    "name": "ipython",
    "version": 3
   },
   "file_extension": ".py",
   "mimetype": "text/x-python",
   "name": "python",
   "nbconvert_exporter": "python",
   "pygments_lexer": "ipython3",
   "version": "3.9.13"
  }
 },
 "nbformat": 4,
 "nbformat_minor": 2
}
